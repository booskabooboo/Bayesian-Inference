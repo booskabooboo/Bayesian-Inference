{
 "cells": [
  {
   "cell_type": "code",
   "execution_count": 1,
   "id": "1063cca2",
   "metadata": {},
   "outputs": [],
   "source": [
    "# https://atcoder.jp/contests/abc259/tasks/abc259_d"
   ]
  },
  {
   "cell_type": "code",
   "execution_count": 2,
   "id": "670b0e5d",
   "metadata": {},
   "outputs": [],
   "source": [
    "# 2つの円が交差する条件、中心間の距離と、半径2つの合計、差を比べればいい\n",
    "# 接する円はUnion Find uniteすればいい\n",
    "# 平方根を取ると非整数になり、誤差でアウトになることがある。\n",
    "# 平方根を取らずに二乗すれば整数でチェックできる"
   ]
  },
  {
   "cell_type": "code",
   "execution_count": 4,
   "id": "4db74e76",
   "metadata": {},
   "outputs": [],
   "source": [
    "class UnionFind():\n",
    "    def __init__(self, n):\n",
    "        self.n = n\n",
    "        self.parents = [-1] * n\n",
    "\n",
    "    def find(self, x):\n",
    "        if self.parents[x] < 0:\n",
    "            return x\n",
    "        else:\n",
    "            self.parents[x] = self.find(self.parents[x])\n",
    "            return self.parents[x]\n",
    "\n",
    "    def unite(self, x, y):\n",
    "        x = self.find(x)\n",
    "        y = self.find(y)\n",
    "        if x == y:\n",
    "            return\n",
    "        if self.parents[x] > self.parents[y]:\n",
    "            x, y = y, x\n",
    "        self.parents[x] += self.parents[y]\n",
    "        self.parents[y] = x\n",
    "\n",
    "    def size(self, x):\n",
    "        return -self.parents[self.find(x)]\n",
    "\n",
    "    def same(self, x, y):\n",
    "        return self.find(x) == self.find(y)\n",
    "\n",
    "    def members(self, x):\n",
    "        root = self.find(x)\n",
    "        return [i for i in range(self.n) if self.find(i) == root]\n",
    "\n",
    "    def roots(self):\n",
    "        return [i for i, x in enumerate(self.parents) if x < 0]\n",
    "\n",
    "    def group_count(self):\n",
    "        return len(self.roots())\n",
    "\n",
    "    def all_group_members(self):\n",
    "        group_members = defaultdict(list)\n",
    "        for member in range(self.n):\n",
    "            group_members[self.find(member)].append(member)\n",
    "        return group_members\n",
    "\n",
    "    def __str__(self):\n",
    "        return '\\n'.join(f'{r}: {m}' for r, m in self.all_group_members().items())"
   ]
  },
  {
   "cell_type": "code",
   "execution_count": 63,
   "id": "5ebde0b4",
   "metadata": {},
   "outputs": [
    {
     "name": "stdout",
     "output_type": "stream",
     "text": [
      "3\n",
      "0 1 0 3\n",
      "0 0 1\n",
      "0 0 2\n",
      "0 0 3\n",
      "[(0, 0, 1), (0, 0, 2), (0, 0, 3)]\n",
      "[0]\n",
      "[2]\n"
     ]
    }
   ],
   "source": [
    "N = int(input())\n",
    "sx, sy, tx, ty = map(int, input().split())\n",
    "circles = []\n",
    "s_belong = []\n",
    "t_belong = []\n",
    "for i in range(N):\n",
    "    x, y, r = map(int, input().split())\n",
    "    circles.append((x, y, r))\n",
    "    if (sx-x)**2 + (sy-y)**2 == r**2:\n",
    "        s_belong.append(i)\n",
    "    if (tx-x)**2 + (ty-y)**2 == r**2:\n",
    "        t_belong.append(i)\n",
    "\n",
    "print(circles)\n",
    "print(s_belong)\n",
    "print(t_belong)"
   ]
  },
  {
   "cell_type": "code",
   "execution_count": 64,
   "id": "b6ff854e",
   "metadata": {},
   "outputs": [
    {
     "name": "stdout",
     "output_type": "stream",
     "text": [
      "defaultdict(<class 'list'>, {0: [0], 1: [1], 2: [2]})\n"
     ]
    }
   ],
   "source": [
    "from collections import defaultdict\n",
    "import math\n",
    "UF = UnionFind(N)\n",
    "\n",
    "for i in range(N):\n",
    "    for j in range(i+1, N):\n",
    "        x1, y1, r1 = circles[i]\n",
    "        x2, y2, r2 = circles[j]\n",
    "        distance = ((x1-x2)**2 + (y1-y2)**2)\n",
    "        if (r1-r2)**2 <= distance <= (r1+r2)**2:\n",
    "            # 上を2乗しないで提出すると3WA出た、意味不明\n",
    "            UF.unite(i, j)\n",
    "\n",
    "print(UF.all_group_members())"
   ]
  },
  {
   "cell_type": "code",
   "execution_count": 65,
   "id": "e248a97d",
   "metadata": {},
   "outputs": [
    {
     "name": "stdout",
     "output_type": "stream",
     "text": [
      "No\n"
     ]
    }
   ],
   "source": [
    "ans = 'No'\n",
    "for s in s_belong:\n",
    "    for t in t_belong:\n",
    "        if UF.same(s, t):\n",
    "            ans = 'Yes'\n",
    "            break\n",
    "print(ans)"
   ]
  },
  {
   "cell_type": "code",
   "execution_count": null,
   "id": "5b7137ce",
   "metadata": {},
   "outputs": [],
   "source": []
  }
 ],
 "metadata": {
  "kernelspec": {
   "display_name": "Python 3 (ipykernel)",
   "language": "python",
   "name": "python3"
  },
  "language_info": {
   "codemirror_mode": {
    "name": "ipython",
    "version": 3
   },
   "file_extension": ".py",
   "mimetype": "text/x-python",
   "name": "python",
   "nbconvert_exporter": "python",
   "pygments_lexer": "ipython3",
   "version": "3.9.7"
  }
 },
 "nbformat": 4,
 "nbformat_minor": 5
}
