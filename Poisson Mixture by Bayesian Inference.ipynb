{
 "cells": [
  {
   "cell_type": "code",
   "execution_count": 28,
   "id": "028e8186",
   "metadata": {},
   "outputs": [],
   "source": [
    "# こちらの方のほぼコピペ、３山にしただけ\n",
    "# https://qiita.com/ogi-iii/items/eb9280ab489e25edf6c9"
   ]
  },
  {
   "cell_type": "code",
   "execution_count": 29,
   "id": "9905675b",
   "metadata": {},
   "outputs": [],
   "source": [
    "import numpy as np\n",
    "import matplotlib.pyplot as plt\n",
    "%matplotlib inline\n",
    "\n",
    "np.set_printoptions(precision=2, suppress = True)"
   ]
  },
  {
   "cell_type": "code",
   "execution_count": 30,
   "id": "f3cbbf8f",
   "metadata": {},
   "outputs": [
    {
     "data": {
      "image/png": "[encoded data removed]",
      "text/plain": [
       "<Figure size 864x360 with 1 Axes>"
      ]
     },
     "metadata": {
      "needs_background": "light"
     },
     "output_type": "display_data"
    }
   ],
   "source": [
    "lambda_A = 5\n",
    "lambda_B = 15\n",
    "lambda_C = 30\n",
    "\n",
    "num_A = 250\n",
    "num_B = 500\n",
    "num_C = 700\n",
    "\n",
    "A = np.random.poisson(lambda_A, num_A)\n",
    "B = np.random.poisson(lambda_B, num_B)\n",
    "C = np.random.poisson(lambda_C, num_C)\n",
    "\n",
    "X = np.concatenate([A, B, C])\n",
    "\n",
    "plt.figure(figsize=(12, 5))\n",
    "plt.title('Three Poisson Distributions')\n",
    "plt.hist(X, bins = 45, density = True)\n",
    "plt.show()"
   ]
  },
  {
   "cell_type": "code",
   "execution_count": 31,
   "id": "2c7f5cc6",
   "metadata": {},
   "outputs": [],
   "source": [
    "def log_sum_exp(X):\n",
    "    max_x = np.max(X, axis=1).reshape(-1, 1)\n",
    "    return np.log(np.sum(np.exp(X - max_x), axis=1).reshape(-1, 1)) + max_x"
   ]
  },
  {
   "cell_type": "code",
   "execution_count": 32,
   "id": "942693fd",
   "metadata": {},
   "outputs": [],
   "source": [
    "sample_s = []\n",
    "sample_lambda = []\n",
    "sample_pi = []\n",
    "\n",
    "MAXITER = 100\n",
    "N = len(X)\n",
    "K = 3\n",
    "\n",
    "# initial values\n",
    "init_Gam_param_a = 1\n",
    "init_Gam_param_b = 1\n",
    "init_Dir_alpha = np.ones(K)\n",
    "\n",
    "Lambda = np.array([1.0, 1.0, 1.0])\n",
    "Pi = np.array([1/K, 1/K, 1/K])"
   ]
  },
  {
   "cell_type": "code",
   "execution_count": 33,
   "id": "64681cde",
   "metadata": {},
   "outputs": [],
   "source": [
    "for i in range(MAXITER):\n",
    "\n",
    "    s = np.zeros((N, K))\n",
    "\n",
    "    log_eta = np.dot(X.reshape(N, 1), np.log(Lambda.reshape(1, K))) - Lambda.reshape(1, K) + np.log(Pi.reshape(1, K))\n",
    "\n",
    "    logsumexp_eta = -1 * log_sum_exp(log_eta)\n",
    "    eta = np.exp(log_eta + logsumexp_eta)\n",
    "\n",
    "    for n in range(N):\n",
    "        s[n] = np.random.multinomial(1, eta[n])   \n",
    "    sample_s.append(np.copy(s))\n",
    "\n",
    "    Gam_param_a = (np.dot(s.T, X.reshape(N, 1)) + init_Gam_param_a).T[0]\n",
    "    Gam_param_b = np.sum(s, axis=0).T + init_Gam_param_b\n",
    "\n",
    "    Lambda = np.random.gamma(Gam_param_a, 1/Gam_param_b)\n",
    "    sample_lambda.append(np.copy(Lambda))\n",
    "\n",
    "    Dir_alpha = np.sum(s, axis=0) + init_Dir_alpha\n",
    "\n",
    "    Pi = np.random.dirichlet(Dir_alpha)\n",
    "    sample_pi.append(np.copy(Pi))"
   ]
  },
  {
   "cell_type": "code",
   "execution_count": 34,
   "id": "42e5446f",
   "metadata": {},
   "outputs": [],
   "source": [
    "sample_s_ndarray = np.array(sample_s)\n",
    "sample_lambda_ndarray = np.array(sample_lambda)\n",
    "sample_pi_ndarray = np.array(sample_pi)"
   ]
  },
  {
   "cell_type": "code",
   "execution_count": 35,
   "id": "33568e06",
   "metadata": {},
   "outputs": [
    {
     "name": "stdout",
     "output_type": "stream",
     "text": [
      "estimated lambda: [5.685829322223956, 15.215499364245172, 30.205638671878333]\n",
      "true lambda [5, 15, 30]\n"
     ]
    }
   ],
   "source": [
    "# 各クラスタの平均値\n",
    "lambda_avg = list(np.average(sample_lambda_ndarray, axis=0))\n",
    "lambda_avg.sort()\n",
    "\n",
    "print(\"estimated lambda:\", lambda_avg)\n",
    "print('true lambda', [lambda_A, lambda_B, lambda_C])"
   ]
  },
  {
   "cell_type": "code",
   "execution_count": 36,
   "id": "182d01fb",
   "metadata": {},
   "outputs": [
    {
     "name": "stdout",
     "output_type": "stream",
     "text": [
      "estimated split: [0.18374848285411122, 0.3512097975807539, 0.46504171956513524]\n",
      "true split:  [0.1724137931034483, 0.3448275862068966, 0.4827586206896552]\n"
     ]
    }
   ],
   "source": [
    "split_ratio = list(np.average(sample_pi_ndarray, axis=0))\n",
    "split_ratio.sort()\n",
    "\n",
    "print(\"estimated split:\", split_ratio)\n",
    "print(\"true split: \", [num_A/(num_A + num_B + num_C), num_B/(num_A + num_B + num_C), num_C/(num_A + num_B + num_C)])"
   ]
  },
  {
   "cell_type": "code",
   "execution_count": null,
   "id": "99f36f10",
   "metadata": {},
   "outputs": [],
   "source": []
  }
 ],
 "metadata": {
  "kernelspec": {
   "display_name": "Python 3",
   "language": "python",
   "name": "python3"
  },
  "language_info": {
   "codemirror_mode": {
    "name": "ipython",
    "version": 3
   },
   "file_extension": ".py",
   "mimetype": "text/x-python",
   "name": "python",
   "nbconvert_exporter": "python",
   "pygments_lexer": "ipython3",
   "version": "3.8.8"
  }
 },
 "nbformat": 4,
 "nbformat_minor": 5
}
