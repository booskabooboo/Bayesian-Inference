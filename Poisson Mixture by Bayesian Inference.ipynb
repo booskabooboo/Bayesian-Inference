{
 "cells": [
  {
   "cell_type": "code",
   "execution_count": 1,
   "id": "028e8186",
   "metadata": {},
   "outputs": [],
   "source": [
    "# こちらの方のほぼコピペ、３山にしただけ\n",
    "# https://qiita.com/ogi-iii/items/eb9280ab489e25edf6c9"
   ]
  },
  {
   "cell_type": "code",
   "execution_count": 2,
   "id": "9905675b",
   "metadata": {},
   "outputs": [],
   "source": [
    "import numpy as np\n",
    "import matplotlib.pyplot as plt\n",
    "%matplotlib inline\n",
    "\n",
    "np.set_printoptions(precision=2, suppress = True)"
   ]
  },
  {
   "cell_type": "code",
   "execution_count": 3,
   "id": "f3cbbf8f",
   "metadata": {},
   "outputs": [
    {
     "data": {
      "image/png": "[encoded data removed]",
      "text/plain": [
       "<Figure size 864x360 with 1 Axes>"
      ]
     },
     "metadata": {
      "needs_background": "light"
     },
     "output_type": "display_data"
    }
   ],
   "source": [
    "lambda_A = 5\n",
    "lambda_B = 15\n",
    "lambda_C = 25\n",
    "\n",
    "num_A = 250\n",
    "num_B = 500\n",
    "num_C = 600\n",
    "total = num_A + num_B + num_C\n",
    "\n",
    "A = np.random.poisson(lambda_A, num_A)\n",
    "B = np.random.poisson(lambda_B, num_B)\n",
    "C = np.random.poisson(lambda_C, num_C)\n",
    "\n",
    "X = np.concatenate([A, B, C])\n",
    "\n",
    "plt.figure(figsize=(12, 5))\n",
    "plt.title('Three Poisson Distributions')\n",
    "plt.hist(X, bins = 40)\n",
    "plt.show()"
   ]
  },
  {
   "cell_type": "code",
   "execution_count": 4,
   "id": "2c7f5cc6",
   "metadata": {},
   "outputs": [],
   "source": [
    "# https://qiita.com/BigSea/items/1949b3ceefcec4fc32ea\n",
    "\n",
    "def logsumexp(X):\n",
    "    max_x = np.max(X, axis=1).reshape(-1, 1)\n",
    "    return - np.log(np.sum(np.exp(X - max_x), axis=1).reshape(-1, 1)) - max_x"
   ]
  },
  {
   "cell_type": "code",
   "execution_count": 5,
   "id": "942693fd",
   "metadata": {},
   "outputs": [],
   "source": [
    "sample_s = []\n",
    "sample_lambda = []\n",
    "sample_pi = []\n",
    "\n",
    "Iteration = 100\n",
    "N = len(X)\n",
    "K = 3\n",
    "\n",
    "# initial values\n",
    "Initial_Gam_param_a = 1\n",
    "Initial_Gam_param_b = 1\n",
    "Initial_Dir_alpha = np.ones(K)\n",
    "\n",
    "# initial values\n",
    "Lambda = np.array([1.0, 1.0, 1.0])\n",
    "Pi = np.array([1/K, 1/K, 1/K])"
   ]
  },
  {
   "cell_type": "code",
   "execution_count": 6,
   "id": "64681cde",
   "metadata": {},
   "outputs": [
    {
     "name": "stdout",
     "output_type": "stream",
     "text": [
      "round  0\n",
      "[[0. 1. 0.]\n",
      " [0. 1. 0.]\n",
      " [0. 1. 0.]\n",
      " [0. 0. 1.]\n",
      " [0. 1. 0.]\n",
      " [1. 0. 0.]\n",
      " [0. 1. 0.]\n",
      " [0. 1. 0.]\n",
      " [0. 0. 1.]\n",
      " [1. 0. 0.]\n",
      " [0. 0. 1.]\n",
      " [0. 0. 1.]\n",
      " [0. 0. 1.]\n",
      " [1. 0. 0.]\n",
      " [0. 1. 0.]\n",
      " [0. 0. 1.]\n",
      " [0. 0. 1.]\n",
      " [1. 0. 0.]\n",
      " [1. 0. 0.]\n",
      " [0. 0. 1.]]\n",
      "round  20\n",
      "[[0. 0. 1.]\n",
      " [1. 0. 0.]\n",
      " [0. 0. 1.]\n",
      " [1. 0. 0.]\n",
      " [0. 0. 1.]\n",
      " [1. 0. 0.]\n",
      " [1. 0. 0.]\n",
      " [1. 0. 0.]\n",
      " [1. 0. 0.]\n",
      " [1. 0. 0.]\n",
      " [1. 0. 0.]\n",
      " [1. 0. 0.]\n",
      " [1. 0. 0.]\n",
      " [1. 0. 0.]\n",
      " [0. 0. 1.]\n",
      " [1. 0. 0.]\n",
      " [1. 0. 0.]\n",
      " [1. 0. 0.]\n",
      " [1. 0. 0.]\n",
      " [1. 0. 0.]]\n",
      "round  40\n",
      "[[0. 0. 1.]\n",
      " [1. 0. 0.]\n",
      " [0. 0. 1.]\n",
      " [1. 0. 0.]\n",
      " [1. 0. 0.]\n",
      " [1. 0. 0.]\n",
      " [1. 0. 0.]\n",
      " [1. 0. 0.]\n",
      " [1. 0. 0.]\n",
      " [1. 0. 0.]\n",
      " [1. 0. 0.]\n",
      " [0. 0. 1.]\n",
      " [1. 0. 0.]\n",
      " [1. 0. 0.]\n",
      " [0. 0. 1.]\n",
      " [1. 0. 0.]\n",
      " [1. 0. 0.]\n",
      " [0. 0. 1.]\n",
      " [1. 0. 0.]\n",
      " [1. 0. 0.]]\n",
      "round  60\n",
      "[[0. 0. 1.]\n",
      " [1. 0. 0.]\n",
      " [0. 0. 1.]\n",
      " [1. 0. 0.]\n",
      " [0. 0. 1.]\n",
      " [0. 0. 1.]\n",
      " [1. 0. 0.]\n",
      " [1. 0. 0.]\n",
      " [1. 0. 0.]\n",
      " [1. 0. 0.]\n",
      " [1. 0. 0.]\n",
      " [0. 0. 1.]\n",
      " [1. 0. 0.]\n",
      " [1. 0. 0.]\n",
      " [0. 0. 1.]\n",
      " [1. 0. 0.]\n",
      " [1. 0. 0.]\n",
      " [1. 0. 0.]\n",
      " [1. 0. 0.]\n",
      " [1. 0. 0.]]\n",
      "round  80\n",
      "[[0. 0. 1.]\n",
      " [1. 0. 0.]\n",
      " [0. 0. 1.]\n",
      " [1. 0. 0.]\n",
      " [1. 0. 0.]\n",
      " [1. 0. 0.]\n",
      " [1. 0. 0.]\n",
      " [1. 0. 0.]\n",
      " [1. 0. 0.]\n",
      " [1. 0. 0.]\n",
      " [1. 0. 0.]\n",
      " [0. 0. 1.]\n",
      " [1. 0. 0.]\n",
      " [1. 0. 0.]\n",
      " [1. 0. 0.]\n",
      " [1. 0. 0.]\n",
      " [1. 0. 0.]\n",
      " [1. 0. 0.]\n",
      " [1. 0. 0.]\n",
      " [1. 0. 0.]]\n"
     ]
    }
   ],
   "source": [
    "#P133に基づいて、sをサンプル、λをサンプル、πをサンプル\n",
    "\n",
    "for i in range(Iteration):\n",
    "\n",
    "    s = np.zeros((N, K))\n",
    "\n",
    "    log_eta = np.dot(X.reshape(N, 1), np.log(Lambda.reshape(1, K))) - Lambda.reshape(1, K) + np.log(Pi.reshape(1, K))\n",
    "    # log_eta.shape はデータ数N * K\n",
    "    logsumexp_eta = logsumexp(log_eta)\n",
    "    eta = np.exp(log_eta + logsumexp_eta)\n",
    "\n",
    "    for n in range(N):\n",
    "        s[n] = np.random.multinomial(1, eta[n])\n",
    "    if i %20 ==0: \n",
    "        print(\"round \", i)\n",
    "        print(s[:20])\n",
    "    sample_s.append(s)\n",
    "\n",
    "    Gam_param_a = (np.dot(s.T, X.reshape(N, 1)) + Initial_Gam_param_a).T[0]\n",
    "    Gam_param_b = np.sum(s, axis=0).T + Initial_Gam_param_b\n",
    "\n",
    "    Lambda = np.random.gamma(Gam_param_a, 1/Gam_param_b)\n",
    "    sample_lambda.append(Lambda)\n",
    "\n",
    "    Dir_alpha = np.sum(s, axis=0) + Initial_Dir_alpha\n",
    "\n",
    "    Pi = np.random.dirichlet(Dir_alpha)\n",
    "    sample_pi.append(Pi)"
   ]
  },
  {
   "cell_type": "code",
   "execution_count": 7,
   "id": "42e5446f",
   "metadata": {},
   "outputs": [],
   "source": [
    "sample_s_ndarray = np.array(sample_s)\n",
    "sample_lambda_ndarray = np.array(sample_lambda)\n",
    "sample_pi_ndarray = np.array(sample_pi)"
   ]
  },
  {
   "cell_type": "code",
   "execution_count": 8,
   "id": "33568e06",
   "metadata": {},
   "outputs": [
    {
     "name": "stdout",
     "output_type": "stream",
     "text": [
      "estimated lambda: [5.475226104182447, 14.68692520404344, 24.92034080878711]\n",
      "true lambda [5, 15, 25]\n"
     ]
    }
   ],
   "source": [
    "lambda_avg = list(np.average(sample_lambda_ndarray, axis=0))\n",
    "lambda_avg.sort()\n",
    "\n",
    "print(\"estimated lambda:\", lambda_avg)\n",
    "print('true lambda', [lambda_A, lambda_B, lambda_C])"
   ]
  },
  {
   "cell_type": "code",
   "execution_count": 9,
   "id": "182d01fb",
   "metadata": {},
   "outputs": [
    {
     "name": "stdout",
     "output_type": "stream",
     "text": [
      "estimated split: [0.18053168564776179, 0.35829198864727746, 0.46117632570496087]\n",
      "true split:  [0.18518518518518517, 0.37037037037037035, 0.4444444444444444]\n"
     ]
    }
   ],
   "source": [
    "split_ratio = list(np.average(sample_pi_ndarray, axis=0))\n",
    "split_ratio.sort()\n",
    "\n",
    "print(\"estimated split:\", split_ratio)\n",
    "print(\"true split: \", [num_A/total, num_B/total, num_C/total])"
   ]
  },
  {
   "cell_type": "code",
   "execution_count": 10,
   "id": "99f36f10",
   "metadata": {},
   "outputs": [
    {
     "data": {
      "text/plain": [
       "Text(0.5, 1.0, 'Lambda estimation history')"
      ]
     },
     "execution_count": 10,
     "metadata": {},
     "output_type": "execute_result"
    },
    {
     "data": {
      "image/png": "[encoded data removed]",
      "text/plain": [
       "<Figure size 432x288 with 1 Axes>"
      ]
     },
     "metadata": {
      "needs_background": "light"
     },
     "output_type": "display_data"
    }
   ],
   "source": [
    "plt.plot(sample_lambda_ndarray[:, 0])\n",
    "plt.plot(sample_lambda_ndarray[:, 1])\n",
    "plt.plot(sample_lambda_ndarray[:, 2])\n",
    "plt.title(\"Lambda estimation history\")"
   ]
  },
  {
   "cell_type": "code",
   "execution_count": 11,
   "id": "613ae683",
   "metadata": {},
   "outputs": [
    {
     "data": {
      "text/plain": [
       "Text(0.5, 1.0, 'Pi estimation history')"
      ]
     },
     "execution_count": 11,
     "metadata": {},
     "output_type": "execute_result"
    },
    {
     "data": {
      "image/png": "[encoded data removed]",
      "text/plain": [
       "<Figure size 432x288 with 1 Axes>"
      ]
     },
     "metadata": {
      "needs_background": "light"
     },
     "output_type": "display_data"
    }
   ],
   "source": [
    "plt.plot(sample_pi_ndarray[:, 0])\n",
    "plt.plot(sample_pi_ndarray[:, 1])\n",
    "plt.plot(sample_pi_ndarray[:, 2])\n",
    "plt.title(\"Pi estimation history\")"
   ]
  },
  {
   "cell_type": "code",
   "execution_count": null,
   "id": "72aadf1e",
   "metadata": {},
   "outputs": [],
   "source": []
  }
 ],
 "metadata": {
  "kernelspec": {
   "display_name": "Python 3",
   "language": "python",
   "name": "python3"
  },
  "language_info": {
   "codemirror_mode": {
    "name": "ipython",
    "version": 3
   },
   "file_extension": ".py",
   "mimetype": "text/x-python",
   "name": "python",
   "nbconvert_exporter": "python",
   "pygments_lexer": "ipython3",
   "version": "3.8.8"
  }
 },
 "nbformat": 4,
 "nbformat_minor": 5
}
