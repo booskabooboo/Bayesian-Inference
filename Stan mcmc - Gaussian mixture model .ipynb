{
 "cells": [
  {
   "cell_type": "code",
   "execution_count": 1,
   "id": "0936d2de",
   "metadata": {},
   "outputs": [],
   "source": [
    "# https://jeremy9959.net/Blog/StanMixture/"
   ]
  },
  {
   "cell_type": "code",
   "execution_count": 2,
   "id": "e5bd75e1",
   "metadata": {},
   "outputs": [],
   "source": [
    "import numpy as np\n",
    "from numpy.random import *\n",
    "import pystan\n",
    "import pandas as pd\n",
    "import matplotlib.pyplot as plt\n",
    "import arviz as az\n",
    "from scipy.special import expit"
   ]
  },
  {
   "cell_type": "code",
   "execution_count": 3,
   "id": "022ff4c1",
   "metadata": {},
   "outputs": [
    {
     "data": {
      "image/png": "[encoded data removed]",
      "text/plain": [
       "<Figure size 864x360 with 1 Axes>"
      ]
     },
     "metadata": {
      "needs_background": "light"
     },
     "output_type": "display_data"
    }
   ],
   "source": [
    "K = 2\n",
    "\n",
    "A_mu = 3\n",
    "B_mu = 5\n",
    "\n",
    "A_sigma = 0.3\n",
    "B_sigma = 1\n",
    "\n",
    "A_num = 200\n",
    "B_num = 300\n",
    "total = A_num + B_num\n",
    "\n",
    "A = np.random.normal(loc = A_mu, scale = A_sigma, size = A_num)\n",
    "B = np.random.normal(loc = B_mu, scale = B_sigma, size = B_num)\n",
    "\n",
    "X = np.concatenate([A, B])\n",
    "\n",
    "plt.figure(figsize=(12, 5))\n",
    "plt.title('X (raw data)')\n",
    "plt.hist(X, bins = 50, density=True)\n",
    "plt.show()"
   ]
  },
  {
   "cell_type": "code",
   "execution_count": 4,
   "id": "1e908965",
   "metadata": {},
   "outputs": [
    {
     "data": {
      "text/html": [
       "<div>\n",
       "<style scoped>\n",
       "    .dataframe tbody tr th:only-of-type {\n",
       "        vertical-align: middle;\n",
       "    }\n",
       "\n",
       "    .dataframe tbody tr th {\n",
       "        vertical-align: top;\n",
       "    }\n",
       "\n",
       "    .dataframe thead th {\n",
       "        text-align: right;\n",
       "    }\n",
       "</style>\n",
       "<table border=\"1\" class=\"dataframe\">\n",
       "  <thead>\n",
       "    <tr style=\"text-align: right;\">\n",
       "      <th></th>\n",
       "      <th>X</th>\n",
       "    </tr>\n",
       "  </thead>\n",
       "  <tbody>\n",
       "    <tr>\n",
       "      <th>0</th>\n",
       "      <td>3.399084</td>\n",
       "    </tr>\n",
       "    <tr>\n",
       "      <th>1</th>\n",
       "      <td>2.825381</td>\n",
       "    </tr>\n",
       "    <tr>\n",
       "      <th>2</th>\n",
       "      <td>3.196578</td>\n",
       "    </tr>\n",
       "    <tr>\n",
       "      <th>3</th>\n",
       "      <td>3.177996</td>\n",
       "    </tr>\n",
       "    <tr>\n",
       "      <th>4</th>\n",
       "      <td>3.215630</td>\n",
       "    </tr>\n",
       "    <tr>\n",
       "      <th>5</th>\n",
       "      <td>2.938444</td>\n",
       "    </tr>\n",
       "    <tr>\n",
       "      <th>6</th>\n",
       "      <td>3.163349</td>\n",
       "    </tr>\n",
       "    <tr>\n",
       "      <th>7</th>\n",
       "      <td>3.026005</td>\n",
       "    </tr>\n",
       "    <tr>\n",
       "      <th>8</th>\n",
       "      <td>2.913546</td>\n",
       "    </tr>\n",
       "    <tr>\n",
       "      <th>9</th>\n",
       "      <td>2.878107</td>\n",
       "    </tr>\n",
       "  </tbody>\n",
       "</table>\n",
       "</div>"
      ],
      "text/plain": [
       "          X\n",
       "0  3.399084\n",
       "1  2.825381\n",
       "2  3.196578\n",
       "3  3.177996\n",
       "4  3.215630\n",
       "5  2.938444\n",
       "6  3.163349\n",
       "7  3.026005\n",
       "8  2.913546\n",
       "9  2.878107"
      ]
     },
     "execution_count": 4,
     "metadata": {},
     "output_type": "execute_result"
    }
   ],
   "source": [
    "df = pd.DataFrame({\n",
    "    'X': X,})\n",
    "\n",
    "df.head(10)"
   ]
  },
  {
   "cell_type": "code",
   "execution_count": 5,
   "id": "f59dc16d",
   "metadata": {},
   "outputs": [
    {
     "data": {
      "image/png": "[encoded data removed]",
      "text/plain": [
       "<Figure size 432x288 with 1 Axes>"
      ]
     },
     "metadata": {
      "needs_background": "light"
     },
     "output_type": "display_data"
    }
   ],
   "source": [
    "from sklearn.preprocessing import StandardScaler\n",
    "dfs = StandardScaler().fit_transform(df)\n",
    "plt.title('X (standardized)')\n",
    "ax = plt.hist(dfs[:,0], bins=50, density=True)"
   ]
  },
  {
   "cell_type": "code",
   "execution_count": 6,
   "id": "e1ea2a77",
   "metadata": {},
   "outputs": [],
   "source": [
    "stan_data={'N':dfs.shape[0],'y':dfs[:,0]}"
   ]
  },
  {
   "cell_type": "code",
   "execution_count": 7,
   "id": "56e04fb4",
   "metadata": {},
   "outputs": [],
   "source": [
    "# dfsは正規化されたdfであり、以下のmodelブロック事前分布は正規分布を基にした\n",
    "\n",
    "stan_code=\"\"\"\n",
    "data {\n",
    "    int<lower = 0> N;\n",
    "    vector[N] y;\n",
    "}\n",
    "\n",
    "parameters {\n",
    "    ordered[2] mu;\n",
    "    real<lower=0> sigma[2];\n",
    "    real<lower=0, upper=1> theta;\n",
    "}\n",
    "\n",
    "model {\n",
    "    sigma ~ normal(0, 1);\n",
    "    mu ~ normal(0, 1);\n",
    "    theta ~ beta(5, 5);\n",
    "    for (n in 1:N)\n",
    "        target += log_mix(theta,\n",
    "            normal_lpdf(y[n] | mu[1], sigma[1]),\n",
    "            normal_lpdf(y[n] | mu[2], sigma[2]));\n",
    "}\n",
    "\"\"\""
   ]
  },
  {
   "cell_type": "code",
   "execution_count": 8,
   "id": "40bb0754",
   "metadata": {},
   "outputs": [
    {
     "name": "stderr",
     "output_type": "stream",
     "text": [
      "INFO:pystan:COMPILING THE C++ CODE FOR MODEL anon_model_ef9cbf7b8410f13bec290c9a5b7f6ccb NOW.\n"
     ]
    }
   ],
   "source": [
    "model = pystan.StanModel(model_code=stan_code)"
   ]
  },
  {
   "cell_type": "code",
   "execution_count": 9,
   "id": "e702901b",
   "metadata": {},
   "outputs": [
    {
     "name": "stdout",
     "output_type": "stream",
     "text": [
      "Inference for Stan model: anon_model_ef9cbf7b8410f13bec290c9a5b7f6ccb.\n",
      "4 chains, each with iter=4000; warmup=1000; thin=1; \n",
      "post-warmup draws per chain=3000, total post-warmup draws=12000.\n",
      "\n",
      "           mean se_mean     sd   2.5%    25%    50%    75%  97.5%  n_eff   Rhat\n",
      "mu[1]      -0.9  2.0e-4   0.02  -0.94  -0.92   -0.9  -0.89  -0.86  10110    1.0\n",
      "mu[2]      0.69  6.9e-4   0.07   0.56   0.65    0.7   0.74   0.82   9474    1.0\n",
      "sigma[1]   0.24  1.6e-4   0.02   0.21   0.23   0.24   0.25   0.27  10131    1.0\n",
      "sigma[2]   0.79  4.8e-4   0.05    0.7   0.76   0.79   0.82   0.88   9326    1.0\n",
      "theta      0.44  2.9e-4   0.03   0.38   0.42   0.44   0.46   0.49   9716    1.0\n",
      "lp__     -606.6    0.02   1.61 -610.5 -607.4 -606.2 -605.4 -604.4   5373    1.0\n",
      "\n",
      "Samples were drawn using NUTS at Sat Oct  2 07:31:58 2021.\n",
      "For each parameter, n_eff is a crude measure of effective sample size,\n",
      "and Rhat is the potential scale reduction factor on split chains (at \n",
      "convergence, Rhat=1).\n"
     ]
    }
   ],
   "source": [
    "mcmc_result = model.sampling(data=stan_data, iter=4000, warmup=1000)\n",
    "print(mcmc_result)"
   ]
  },
  {
   "cell_type": "code",
   "execution_count": 10,
   "id": "bb1c24c3",
   "metadata": {},
   "outputs": [],
   "source": [
    "normal1_mu = mcmc_result['mu[1]'].mean()\n",
    "normal2_mu = mcmc_result['mu[2]'].mean()\n",
    "normal1_sigma = mcmc_result['sigma[1]'].mean()\n",
    "normal2_sigma = mcmc_result['sigma[2]'].mean()\n",
    "theta = mcmc_result['theta'].mean()"
   ]
  },
  {
   "cell_type": "code",
   "execution_count": 11,
   "id": "a4510547",
   "metadata": {},
   "outputs": [
    {
     "data": {
      "image/png": "[encoded data removed]",
      "text/plain": [
       "<Figure size 864x864 with 1 Axes>"
      ]
     },
     "metadata": {
      "needs_background": "light"
     },
     "output_type": "display_data"
    }
   ],
   "source": [
    "from scipy.stats import norm\n",
    "fig, axes = plt.subplots(1, figsize = (12, 12))\n",
    "axes.hist(dfs[:,0], bins=50, density=True)\n",
    "x=np.linspace(-2,2,100)\n",
    "ax = axes.plot(x, theta*norm.pdf(x, loc=normal1_mu,scale=normal1_sigma)+(1-theta)*norm.pdf(x,loc=normal2_mu,scale=normal2_sigma), linewidth=4, color='red')"
   ]
  },
  {
   "cell_type": "code",
   "execution_count": null,
   "id": "365243e9",
   "metadata": {},
   "outputs": [],
   "source": []
  }
 ],
 "metadata": {
  "kernelspec": {
   "display_name": "Python 3",
   "language": "python",
   "name": "python3"
  },
  "language_info": {
   "codemirror_mode": {
    "name": "ipython",
    "version": 3
   },
   "file_extension": ".py",
   "mimetype": "text/x-python",
   "name": "python",
   "nbconvert_exporter": "python",
   "pygments_lexer": "ipython3",
   "version": "3.8.8"
  }
 },
 "nbformat": 4,
 "nbformat_minor": 5
}
