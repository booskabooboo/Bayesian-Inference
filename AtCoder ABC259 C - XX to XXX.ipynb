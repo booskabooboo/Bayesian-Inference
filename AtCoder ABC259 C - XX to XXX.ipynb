{
 "cells": [
  {
   "cell_type": "code",
   "execution_count": 1,
   "id": "484e8e62",
   "metadata": {},
   "outputs": [],
   "source": [
    "# https://atcoder.jp/contests/abc259/tasks/abc259_c"
   ]
  },
  {
   "cell_type": "code",
   "execution_count": 13,
   "id": "74590e3f",
   "metadata": {},
   "outputs": [
    {
     "name": "stdout",
     "output_type": "stream",
     "text": [
      "abaac\n",
      "abbaaac\n"
     ]
    }
   ],
   "source": [
    "S = input()\n",
    "T = input()"
   ]
  },
  {
   "cell_type": "code",
   "execution_count": 16,
   "id": "1ae23f14",
   "metadata": {},
   "outputs": [
    {
     "name": "stdout",
     "output_type": "stream",
     "text": [
      "[['a', 1], ['b', 1], ['a', 2], ['c', 1]]\n",
      "[['a', 1], ['b', 2], ['a', 3], ['c', 1]]\n"
     ]
    }
   ],
   "source": [
    "def count_list(string):\n",
    "    L = len(string)\n",
    "    count_list = []\n",
    "    for i in range(L):\n",
    "        if i == 0:\n",
    "            last = string[i]\n",
    "            count = 1\n",
    "        elif i == L-1:\n",
    "            if string[i] != last:\n",
    "                count_list.append([string[i-1], count])\n",
    "                count_list.append([string[i], 1])\n",
    "            else: \n",
    "                count += 1   \n",
    "                count_list.append([string[i-1], count])\n",
    "        else:\n",
    "            if string[i] != last:\n",
    "                count_list.append([string[i-1], count])\n",
    "                last = string[i]\n",
    "                count = 1\n",
    "            else: \n",
    "                count += 1\n",
    "    return count_list\n",
    "            \n",
    "print(count_list(S))\n",
    "print(count_list(T))"
   ]
  },
  {
   "cell_type": "code",
   "execution_count": 15,
   "id": "734059a3",
   "metadata": {},
   "outputs": [
    {
     "name": "stdout",
     "output_type": "stream",
     "text": [
      "No\n"
     ]
    }
   ],
   "source": [
    "test = 'Yes'\n",
    "count_S = count_list(S)\n",
    "count_T = count_list(T)\n",
    "\n",
    "if len(count_S) != len(count_T):\n",
    "    test = 'No'\n",
    "else: \n",
    "    for i in range(len(count_S)):\n",
    "        let1, num1 = count_S[i]\n",
    "        let2, num2 = count_T[i]\n",
    "        if let1 != let2:\n",
    "            test = 'No'\n",
    "        if num1 == 1:\n",
    "            if num2 != 1:\n",
    "                test = 'No'\n",
    "        if num1 > 1 and num1 > num2:\n",
    "            test = 'No'\n",
    "\n",
    "print(test)    "
   ]
  },
  {
   "cell_type": "code",
   "execution_count": null,
   "id": "7b9119ce",
   "metadata": {},
   "outputs": [],
   "source": []
  },
  {
   "cell_type": "code",
   "execution_count": null,
   "id": "0e9a9de1",
   "metadata": {},
   "outputs": [],
   "source": []
  }
 ],
 "metadata": {
  "kernelspec": {
   "display_name": "Python 3 (ipykernel)",
   "language": "python",
   "name": "python3"
  },
  "language_info": {
   "codemirror_mode": {
    "name": "ipython",
    "version": 3
   },
   "file_extension": ".py",
   "mimetype": "text/x-python",
   "name": "python",
   "nbconvert_exporter": "python",
   "pygments_lexer": "ipython3",
   "version": "3.9.7"
  }
 },
 "nbformat": 4,
 "nbformat_minor": 5
}
