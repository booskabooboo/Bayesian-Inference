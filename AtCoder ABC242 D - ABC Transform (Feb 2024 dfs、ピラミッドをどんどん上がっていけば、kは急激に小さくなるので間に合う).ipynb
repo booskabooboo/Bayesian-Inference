{
 "cells": [
  {
   "cell_type": "code",
   "execution_count": 1,
   "id": "c00bb1fb",
   "metadata": {},
   "outputs": [],
   "source": [
    "# https://atcoder.jp/contests/abc242/tasks/abc242_d"
   ]
  },
  {
   "cell_type": "code",
   "execution_count": 8,
   "id": "9c703798",
   "metadata": {},
   "outputs": [
    {
     "name": "stdout",
     "output_type": "stream",
     "text": [
      "CBBAACCCCC\n",
      "[2, 1, 1, 0, 0, 2, 2, 2, 2, 2]\n"
     ]
    }
   ],
   "source": [
    "# dfs\n",
    "# ピラミッドをどんどん上がっていけば、kは急激に小さくなるので間に合う\n",
    "\n",
    "S = input()\n",
    "S_num = []\n",
    "for s in S:\n",
    "    if s == 'A':\n",
    "        S_num.append(0)\n",
    "    elif s == 'B':\n",
    "        S_num.append(1)\n",
    "    elif s == 'C':\n",
    "        S_num.append(2)\n",
    "        \n",
    "#print(S_num)\n",
    "\n",
    "import sys\n",
    "sys.setrecursionlimit(10**7)\n",
    "\n",
    "def dfs(t, k):\n",
    "    #print('t', t, 'k', k, 't%3', t%3)\n",
    "    if t == 0:\n",
    "        return S_num[k]\n",
    "    elif k == 0:\n",
    "        if t%3 == 0:\n",
    "            return S_num[0]\n",
    "        elif t%3 == 1:\n",
    "            return dfs(t-1, k)+1\n",
    "        elif t%3 == 2:\n",
    "            return dfs(t-2, k)+2\n",
    "    else:\n",
    "        if k%2 == 0:\n",
    "            return dfs(t-1, k//2)+1\n",
    "        else:\n",
    "            return dfs(t-1, k//2)+2\n",
    "        \n",
    "Q = int(input())\n",
    "for q in range(Q):\n",
    "    t, k = map(int, input().split())\n",
    "    k -= 1\n",
    "    ans_num = dfs(t, k)%3\n",
    "    #print(ans_num)\n",
    "    if ans_num == 0:\n",
    "        print('A')\n",
    "    elif ans_num == 1:\n",
    "        print('B')\n",
    "    elif ans_num == 2:\n",
    "        print('C')\n",
    "    "
   ]
  },
  {
   "cell_type": "code",
   "execution_count": null,
   "id": "b8849d14",
   "metadata": {},
   "outputs": [],
   "source": []
  },
  {
   "cell_type": "code",
   "execution_count": null,
   "id": "56a56041",
   "metadata": {},
   "outputs": [],
   "source": []
  },
  {
   "cell_type": "code",
   "execution_count": null,
   "id": "220e5e25",
   "metadata": {},
   "outputs": [],
   "source": []
  }
 ],
 "metadata": {
  "kernelspec": {
   "display_name": "Python 3 (ipykernel)",
   "language": "python",
   "name": "python3"
  },
  "language_info": {
   "codemirror_mode": {
    "name": "ipython",
    "version": 3
   },
   "file_extension": ".py",
   "mimetype": "text/x-python",
   "name": "python",
   "nbconvert_exporter": "python",
   "pygments_lexer": "ipython3",
   "version": "3.9.12"
  }
 },
 "nbformat": 4,
 "nbformat_minor": 5
}
