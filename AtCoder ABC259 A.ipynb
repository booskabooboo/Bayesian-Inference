{
 "cells": [
  {
   "cell_type": "code",
   "execution_count": 5,
   "id": "0377eec8",
   "metadata": {},
   "outputs": [
    {
     "name": "stdout",
     "output_type": "stream",
     "text": [
      "100 10 100 180 1\n"
     ]
    }
   ],
   "source": [
    "N, M, X, T, D = map(int, input().split())"
   ]
  },
  {
   "cell_type": "code",
   "execution_count": 6,
   "id": "879e7270",
   "metadata": {},
   "outputs": [
    {
     "name": "stdout",
     "output_type": "stream",
     "text": [
      "90\n"
     ]
    }
   ],
   "source": [
    "if N >= X:\n",
    "    if M >= X:\n",
    "        ans = T \n",
    "    elif M < X:\n",
    "        A = T - D*X\n",
    "        ans = A + D*M\n",
    "else:\n",
    "    A = T - D*N\n",
    "    if M >= X:\n",
    "        ans = A + D*X\n",
    "    else: \n",
    "        ans = A + D*M\n",
    "        \n",
    "print(ans)"
   ]
  },
  {
   "cell_type": "code",
   "execution_count": null,
   "id": "9497539a",
   "metadata": {},
   "outputs": [],
   "source": []
  }
 ],
 "metadata": {
  "kernelspec": {
   "display_name": "Python 3 (ipykernel)",
   "language": "python",
   "name": "python3"
  },
  "language_info": {
   "codemirror_mode": {
    "name": "ipython",
    "version": 3
   },
   "file_extension": ".py",
   "mimetype": "text/x-python",
   "name": "python",
   "nbconvert_exporter": "python",
   "pygments_lexer": "ipython3",
   "version": "3.9.7"
  }
 },
 "nbformat": 4,
 "nbformat_minor": 5
}
