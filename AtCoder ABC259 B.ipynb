{
 "cells": [
  {
   "cell_type": "code",
   "execution_count": 5,
   "id": "62cec230",
   "metadata": {},
   "outputs": [
    {
     "name": "stdout",
     "output_type": "stream",
     "text": [
      "-505 191 278\n",
      "118.85878514480687 526.6674369978655\n"
     ]
    }
   ],
   "source": [
    "a, b, d = map(int, input().split())\n",
    "\n",
    "import math\n",
    "\n",
    "cos = math.cos(math.radians(d))\n",
    "sin = math.sin(math.radians(d))\n",
    "\n",
    "X = cos*a - sin*b\n",
    "Y = sin*a + cos*b\n",
    "print(X, Y)"
   ]
  },
  {
   "cell_type": "code",
   "execution_count": null,
   "id": "588f2326",
   "metadata": {},
   "outputs": [],
   "source": []
  }
 ],
 "metadata": {
  "kernelspec": {
   "display_name": "Python 3 (ipykernel)",
   "language": "python",
   "name": "python3"
  },
  "language_info": {
   "codemirror_mode": {
    "name": "ipython",
    "version": 3
   },
   "file_extension": ".py",
   "mimetype": "text/x-python",
   "name": "python",
   "nbconvert_exporter": "python",
   "pygments_lexer": "ipython3",
   "version": "3.9.7"
  }
 },
 "nbformat": 4,
 "nbformat_minor": 5
}
