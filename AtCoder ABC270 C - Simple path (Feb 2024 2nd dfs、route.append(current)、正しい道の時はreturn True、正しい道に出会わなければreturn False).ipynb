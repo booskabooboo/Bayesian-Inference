{
 "cells": [
  {
   "cell_type": "code",
   "execution_count": 1,
   "id": "1ab3c9b9",
   "metadata": {},
   "outputs": [],
   "source": [
    "# https://atcoder.jp/contests/abc270/tasks/abc270_c"
   ]
  },
  {
   "cell_type": "code",
   "execution_count": 7,
   "id": "5f63c4d7",
   "metadata": {},
   "outputs": [
    {
     "name": "stdout",
     "output_type": "stream",
     "text": [
      "6 1 2\n",
      "3 1\n",
      "2 5\n",
      "1 2\n",
      "4 1\n",
      "2 6\n"
     ]
    }
   ],
   "source": [
    "# dfs練習\n",
    "# route.append(current)、正しい道の時はreturn True、正しい道に出会わなければreturn False\n",
    "\n",
    "N, X, Y = map(int, input().split())\n",
    "edges = [[] for i in range(N+1)]\n",
    "for i in range(N-1):\n",
    "    u, v = map(int, input().split())\n",
    "    edges[u].append(v)\n",
    "    edges[v].append(u)\n",
    "\n",
    "import sys\n",
    "sys.setrecursionlimit(10**7)\n",
    "\n",
    "def dfs(current, prev):\n",
    "    if current == Y:\n",
    "        route.append(current)\n",
    "        return True\n",
    "    \n",
    "    for nxt in edges[current]:\n",
    "        if nxt != prev:\n",
    "            if dfs(nxt, current) == True:\n",
    "                route.append(current)\n",
    "                return True\n",
    "    return False\n",
    "\n",
    "route = []\n",
    "dfs(X, 0)\n",
    "print(*route[::-1])"
   ]
  },
  {
   "cell_type": "code",
   "execution_count": null,
   "id": "d74507ab",
   "metadata": {},
   "outputs": [],
   "source": []
  }
 ],
 "metadata": {
  "kernelspec": {
   "display_name": "Python 3 (ipykernel)",
   "language": "python",
   "name": "python3"
  },
  "language_info": {
   "codemirror_mode": {
    "name": "ipython",
    "version": 3
   },
   "file_extension": ".py",
   "mimetype": "text/x-python",
   "name": "python",
   "nbconvert_exporter": "python",
   "pygments_lexer": "ipython3",
   "version": "3.9.12"
  }
 },
 "nbformat": 4,
 "nbformat_minor": 5
}
